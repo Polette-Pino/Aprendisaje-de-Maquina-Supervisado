{
 "cells": [
  {
   "attachments": {},
   "cell_type": "markdown",
   "metadata": {},
   "source": [
    "1.- Enliste todas las librerias que utilizará "
   ]
  },
  {
   "cell_type": "code",
   "execution_count": 643,
   "metadata": {},
   "outputs": [],
   "source": [
    "# Nota: Se recomienda ir actualizando la lista conforme las necesidades vaya \n",
    "# teniendo durante el desarrollo de la prueba\n",
    "\n",
    "# importar librerias\n",
    "import pandas as pd\n",
    "import numpy as np\n",
    "import matplotlib.pyplot as plt\n",
    "import seaborn as sns\n",
    "from sklearn.model_selection import train_test_split\n",
    "from sklearn.linear_model import LogisticRegression\n",
    "from sklearn.ensemble import RandomForestClassifier\n",
    "from sklearn.preprocessing import StandardScaler\n",
    "from sklearn.metrics import accuracy_score\n",
    "from sklearn.metrics import confusion_matrix\n",
    "from sklearn.metrics import mean_squared_error\n"
   ]
  },
  {
   "attachments": {},
   "cell_type": "markdown",
   "metadata": {},
   "source": [
    "2.- Importación y revisión de los datos "
   ]
  },
  {
   "cell_type": "code",
   "execution_count": 644,
   "metadata": {},
   "outputs": [],
   "source": [
    "# Importe ambos sets. Dado que la fuente de datos proviene de la misma base, \n",
    "# tienen las mismas columnas. Consolide ambos sets y reporte una \n",
    "# exploración básica de los datos (numero de filas/columnas, tipos de datos, \n",
    "# estadísticas básicas, casos perdidos)\n",
    "\n",
    "# importar set de datos\n",
    "df_2009 = pd.read_csv(\"2009_1perc.csv\")\n",
    "df_2010 = pd.read_csv(\"2010_1perc.csv\")"
   ]
  },
  {
   "cell_type": "code",
   "execution_count": 645,
   "metadata": {},
   "outputs": [
    {
     "name": "stdout",
     "output_type": "stream",
     "text": [
      "(5812, 112)\n",
      "(6013, 112)\n"
     ]
    }
   ],
   "source": [
    "print(df_2009.shape)\n",
    "print(df_2010.shape)"
   ]
  },
  {
   "cell_type": "code",
   "execution_count": 646,
   "metadata": {},
   "outputs": [
    {
     "data": {
      "text/html": [
       "<div>\n",
       "<style scoped>\n",
       "    .dataframe tbody tr th:only-of-type {\n",
       "        vertical-align: middle;\n",
       "    }\n",
       "\n",
       "    .dataframe tbody tr th {\n",
       "        vertical-align: top;\n",
       "    }\n",
       "\n",
       "    .dataframe thead th {\n",
       "        text-align: right;\n",
       "    }\n",
       "</style>\n",
       "<table border=\"1\" class=\"dataframe\">\n",
       "  <thead>\n",
       "    <tr style=\"text-align: right;\">\n",
       "      <th></th>\n",
       "      <th>Unnamed: 0</th>\n",
       "      <th>year</th>\n",
       "      <th>pct</th>\n",
       "      <th>ser_num</th>\n",
       "      <th>datestop</th>\n",
       "      <th>timestop</th>\n",
       "      <th>recstat</th>\n",
       "      <th>inout</th>\n",
       "      <th>trhsloc</th>\n",
       "      <th>perobs</th>\n",
       "      <th>...</th>\n",
       "      <th>zip</th>\n",
       "      <th>addrpct</th>\n",
       "      <th>sector</th>\n",
       "      <th>beat</th>\n",
       "      <th>post</th>\n",
       "      <th>xcoord</th>\n",
       "      <th>ycoord</th>\n",
       "      <th>dettypcm</th>\n",
       "      <th>linecm</th>\n",
       "      <th>detailcm</th>\n",
       "    </tr>\n",
       "  </thead>\n",
       "  <tbody>\n",
       "    <tr>\n",
       "      <th>0</th>\n",
       "      <td>178048</td>\n",
       "      <td>2009</td>\n",
       "      <td>41</td>\n",
       "      <td>1779</td>\n",
       "      <td>4032009</td>\n",
       "      <td>130</td>\n",
       "      <td>A</td>\n",
       "      <td>O</td>\n",
       "      <td>P</td>\n",
       "      <td>1.0</td>\n",
       "      <td>...</td>\n",
       "      <td></td>\n",
       "      <td>41</td>\n",
       "      <td>G</td>\n",
       "      <td>7</td>\n",
       "      <td></td>\n",
       "      <td>1013067</td>\n",
       "      <td>0238633</td>\n",
       "      <td>CM</td>\n",
       "      <td>1</td>\n",
       "      <td>20</td>\n",
       "    </tr>\n",
       "    <tr>\n",
       "      <th>1</th>\n",
       "      <td>498873</td>\n",
       "      <td>2009</td>\n",
       "      <td>108</td>\n",
       "      <td>5805</td>\n",
       "      <td>10292009</td>\n",
       "      <td>1050</td>\n",
       "      <td>A</td>\n",
       "      <td>O</td>\n",
       "      <td>P</td>\n",
       "      <td>3.0</td>\n",
       "      <td>...</td>\n",
       "      <td></td>\n",
       "      <td>108</td>\n",
       "      <td>J</td>\n",
       "      <td></td>\n",
       "      <td></td>\n",
       "      <td>1012043</td>\n",
       "      <td>0212157</td>\n",
       "      <td>CM</td>\n",
       "      <td>1</td>\n",
       "      <td>14</td>\n",
       "    </tr>\n",
       "    <tr>\n",
       "      <th>2</th>\n",
       "      <td>463573</td>\n",
       "      <td>2009</td>\n",
       "      <td>43</td>\n",
       "      <td>8340</td>\n",
       "      <td>10062009</td>\n",
       "      <td>1450</td>\n",
       "      <td>1</td>\n",
       "      <td>O</td>\n",
       "      <td>P</td>\n",
       "      <td>1.0</td>\n",
       "      <td>...</td>\n",
       "      <td></td>\n",
       "      <td>43</td>\n",
       "      <td>E</td>\n",
       "      <td></td>\n",
       "      <td></td>\n",
       "      <td>1017599</td>\n",
       "      <td>0240200</td>\n",
       "      <td>CM</td>\n",
       "      <td>1</td>\n",
       "      <td>20</td>\n",
       "    </tr>\n",
       "    <tr>\n",
       "      <th>3</th>\n",
       "      <td>43626</td>\n",
       "      <td>2009</td>\n",
       "      <td>77</td>\n",
       "      <td>932</td>\n",
       "      <td>1232009</td>\n",
       "      <td>1843</td>\n",
       "      <td>A</td>\n",
       "      <td>O</td>\n",
       "      <td>P</td>\n",
       "      <td>5.0</td>\n",
       "      <td>...</td>\n",
       "      <td></td>\n",
       "      <td>77</td>\n",
       "      <td>J</td>\n",
       "      <td>4</td>\n",
       "      <td>35</td>\n",
       "      <td>1002625</td>\n",
       "      <td>0183442</td>\n",
       "      <td>CM</td>\n",
       "      <td>1</td>\n",
       "      <td>24</td>\n",
       "    </tr>\n",
       "    <tr>\n",
       "      <th>4</th>\n",
       "      <td>563921</td>\n",
       "      <td>2009</td>\n",
       "      <td>110</td>\n",
       "      <td>11224</td>\n",
       "      <td>12132009</td>\n",
       "      <td>1655</td>\n",
       "      <td>A</td>\n",
       "      <td>O</td>\n",
       "      <td>P</td>\n",
       "      <td>3.0</td>\n",
       "      <td>...</td>\n",
       "      <td></td>\n",
       "      <td>110</td>\n",
       "      <td>H</td>\n",
       "      <td></td>\n",
       "      <td></td>\n",
       "      <td>1024535</td>\n",
       "      <td>0209890</td>\n",
       "      <td>CM</td>\n",
       "      <td>1</td>\n",
       "      <td>20</td>\n",
       "    </tr>\n",
       "  </tbody>\n",
       "</table>\n",
       "<p>5 rows × 112 columns</p>\n",
       "</div>"
      ],
      "text/plain": [
       "   Unnamed: 0  year  pct  ser_num  datestop  timestop recstat inout trhsloc  \\\n",
       "0      178048  2009   41     1779   4032009       130       A     O       P   \n",
       "1      498873  2009  108     5805  10292009      1050       A     O       P   \n",
       "2      463573  2009   43     8340  10062009      1450       1     O       P   \n",
       "3       43626  2009   77      932   1232009      1843       A     O       P   \n",
       "4      563921  2009  110    11224  12132009      1655       A     O       P   \n",
       "\n",
       "   perobs  ... zip  addrpct sector beat post   xcoord   ycoord dettypcm  \\\n",
       "0     1.0  ...           41      G    7       1013067  0238633       CM   \n",
       "1     3.0  ...          108      J            1012043  0212157       CM   \n",
       "2     1.0  ...           43      E            1017599  0240200       CM   \n",
       "3     5.0  ...           77      J    4   35  1002625  0183442       CM   \n",
       "4     3.0  ...          110      H            1024535  0209890       CM   \n",
       "\n",
       "  linecm  detailcm  \n",
       "0      1        20  \n",
       "1      1        14  \n",
       "2      1        20  \n",
       "3      1        24  \n",
       "4      1        20  \n",
       "\n",
       "[5 rows x 112 columns]"
      ]
     },
     "execution_count": 646,
     "metadata": {},
     "output_type": "execute_result"
    }
   ],
   "source": [
    "# consolidar ambos sets\n",
    "df_consolidado = pd.concat([df_2009, df_2010], axis=0)\n",
    "df_consolidado.head()"
   ]
  },
  {
   "cell_type": "code",
   "execution_count": 647,
   "metadata": {},
   "outputs": [
    {
     "data": {
      "text/plain": [
       "(11825, 112)"
      ]
     },
     "execution_count": 647,
     "metadata": {},
     "output_type": "execute_result"
    }
   ],
   "source": [
    "# numero de filas/columnas\n",
    "df_consolidado.shape"
   ]
  },
  {
   "cell_type": "code",
   "execution_count": 648,
   "metadata": {},
   "outputs": [
    {
     "data": {
      "text/plain": [
       "Unnamed: 0     int64\n",
       "year           int64\n",
       "pct            int64\n",
       "ser_num        int64\n",
       "datestop       int64\n",
       "               ...  \n",
       "xcoord        object\n",
       "ycoord        object\n",
       "dettypcm      object\n",
       "linecm        object\n",
       "detailcm      object\n",
       "Length: 112, dtype: object"
      ]
     },
     "execution_count": 648,
     "metadata": {},
     "output_type": "execute_result"
    }
   ],
   "source": [
    "# tipos de datos en el dataset\n",
    "df_consolidado.dtypes"
   ]
  },
  {
   "cell_type": "code",
   "execution_count": 649,
   "metadata": {},
   "outputs": [
    {
     "data": {
      "text/html": [
       "<div>\n",
       "<style scoped>\n",
       "    .dataframe tbody tr th:only-of-type {\n",
       "        vertical-align: middle;\n",
       "    }\n",
       "\n",
       "    .dataframe tbody tr th {\n",
       "        vertical-align: top;\n",
       "    }\n",
       "\n",
       "    .dataframe thead th {\n",
       "        text-align: right;\n",
       "    }\n",
       "</style>\n",
       "<table border=\"1\" class=\"dataframe\">\n",
       "  <thead>\n",
       "    <tr style=\"text-align: right;\">\n",
       "      <th></th>\n",
       "      <th>Unnamed: 0</th>\n",
       "      <th>year</th>\n",
       "      <th>pct</th>\n",
       "      <th>ser_num</th>\n",
       "      <th>datestop</th>\n",
       "      <th>timestop</th>\n",
       "      <th>perobs</th>\n",
       "      <th>perstop</th>\n",
       "      <th>compyear</th>\n",
       "      <th>comppct</th>\n",
       "      <th>repcmd</th>\n",
       "      <th>revcmd</th>\n",
       "      <th>dob</th>\n",
       "      <th>age</th>\n",
       "      <th>ht_feet</th>\n",
       "      <th>ht_inch</th>\n",
       "      <th>weight</th>\n",
       "    </tr>\n",
       "  </thead>\n",
       "  <tbody>\n",
       "    <tr>\n",
       "      <th>count</th>\n",
       "      <td>11825.000000</td>\n",
       "      <td>11825.000000</td>\n",
       "      <td>11825.000000</td>\n",
       "      <td>11825.000000</td>\n",
       "      <td>1.182500e+04</td>\n",
       "      <td>11825.000000</td>\n",
       "      <td>11825.000000</td>\n",
       "      <td>11825.000000</td>\n",
       "      <td>11825.0</td>\n",
       "      <td>11825.0</td>\n",
       "      <td>11825.000000</td>\n",
       "      <td>11825.000000</td>\n",
       "      <td>1.182500e+04</td>\n",
       "      <td>11825.000000</td>\n",
       "      <td>11825.000000</td>\n",
       "      <td>11825.000000</td>\n",
       "      <td>11825.000000</td>\n",
       "    </tr>\n",
       "    <tr>\n",
       "      <th>mean</th>\n",
       "      <td>295983.814799</td>\n",
       "      <td>2009.508499</td>\n",
       "      <td>68.625624</td>\n",
       "      <td>5697.994334</td>\n",
       "      <td>6.364221e+06</td>\n",
       "      <td>1413.725497</td>\n",
       "      <td>2.654391</td>\n",
       "      <td>5.649556</td>\n",
       "      <td>0.0</td>\n",
       "      <td>0.0</td>\n",
       "      <td>243.354926</td>\n",
       "      <td>238.986385</td>\n",
       "      <td>7.316195e+06</td>\n",
       "      <td>28.968541</td>\n",
       "      <td>5.183340</td>\n",
       "      <td>6.408034</td>\n",
       "      <td>170.093615</td>\n",
       "    </tr>\n",
       "    <tr>\n",
       "      <th>std</th>\n",
       "      <td>170820.705702</td>\n",
       "      <td>0.499949</td>\n",
       "      <td>33.037826</td>\n",
       "      <td>5152.486022</td>\n",
       "      <td>3.429091e+06</td>\n",
       "      <td>744.726359</td>\n",
       "      <td>9.759031</td>\n",
       "      <td>9.758535</td>\n",
       "      <td>0.0</td>\n",
       "      <td>0.0</td>\n",
       "      <td>297.788599</td>\n",
       "      <td>299.394740</td>\n",
       "      <td>3.729206e+06</td>\n",
       "      <td>29.205278</td>\n",
       "      <td>0.398801</td>\n",
       "      <td>3.405503</td>\n",
       "      <td>37.195884</td>\n",
       "    </tr>\n",
       "    <tr>\n",
       "      <th>min</th>\n",
       "      <td>52.000000</td>\n",
       "      <td>2009.000000</td>\n",
       "      <td>1.000000</td>\n",
       "      <td>1.000000</td>\n",
       "      <td>1.012009e+06</td>\n",
       "      <td>0.000000</td>\n",
       "      <td>0.000000</td>\n",
       "      <td>1.000000</td>\n",
       "      <td>0.0</td>\n",
       "      <td>0.0</td>\n",
       "      <td>1.000000</td>\n",
       "      <td>1.000000</td>\n",
       "      <td>1.011900e+06</td>\n",
       "      <td>1.000000</td>\n",
       "      <td>3.000000</td>\n",
       "      <td>0.000000</td>\n",
       "      <td>1.000000</td>\n",
       "    </tr>\n",
       "    <tr>\n",
       "      <th>25%</th>\n",
       "      <td>147515.000000</td>\n",
       "      <td>2009.000000</td>\n",
       "      <td>42.000000</td>\n",
       "      <td>2002.000000</td>\n",
       "      <td>3.232009e+06</td>\n",
       "      <td>1000.000000</td>\n",
       "      <td>1.000000</td>\n",
       "      <td>3.000000</td>\n",
       "      <td>0.0</td>\n",
       "      <td>0.0</td>\n",
       "      <td>70.000000</td>\n",
       "      <td>66.000000</td>\n",
       "      <td>4.121982e+06</td>\n",
       "      <td>19.000000</td>\n",
       "      <td>5.000000</td>\n",
       "      <td>4.000000</td>\n",
       "      <td>150.000000</td>\n",
       "    </tr>\n",
       "    <tr>\n",
       "      <th>50%</th>\n",
       "      <td>296652.000000</td>\n",
       "      <td>2010.000000</td>\n",
       "      <td>73.000000</td>\n",
       "      <td>4366.000000</td>\n",
       "      <td>6.162010e+06</td>\n",
       "      <td>1605.000000</td>\n",
       "      <td>1.000000</td>\n",
       "      <td>5.000000</td>\n",
       "      <td>0.0</td>\n",
       "      <td>0.0</td>\n",
       "      <td>105.000000</td>\n",
       "      <td>103.000000</td>\n",
       "      <td>7.261982e+06</td>\n",
       "      <td>25.000000</td>\n",
       "      <td>5.000000</td>\n",
       "      <td>7.000000</td>\n",
       "      <td>170.000000</td>\n",
       "    </tr>\n",
       "    <tr>\n",
       "      <th>75%</th>\n",
       "      <td>443097.000000</td>\n",
       "      <td>2010.000000</td>\n",
       "      <td>102.000000</td>\n",
       "      <td>7840.000000</td>\n",
       "      <td>9.232009e+06</td>\n",
       "      <td>2035.000000</td>\n",
       "      <td>3.000000</td>\n",
       "      <td>5.000000</td>\n",
       "      <td>0.0</td>\n",
       "      <td>0.0</td>\n",
       "      <td>177.000000</td>\n",
       "      <td>176.000000</td>\n",
       "      <td>1.105199e+07</td>\n",
       "      <td>34.000000</td>\n",
       "      <td>5.000000</td>\n",
       "      <td>9.000000</td>\n",
       "      <td>180.000000</td>\n",
       "    </tr>\n",
       "    <tr>\n",
       "      <th>max</th>\n",
       "      <td>601281.000000</td>\n",
       "      <td>2010.000000</td>\n",
       "      <td>123.000000</td>\n",
       "      <td>31694.000000</td>\n",
       "      <td>1.231201e+07</td>\n",
       "      <td>2830.000000</td>\n",
       "      <td>926.000000</td>\n",
       "      <td>857.000000</td>\n",
       "      <td>0.0</td>\n",
       "      <td>0.0</td>\n",
       "      <td>879.000000</td>\n",
       "      <td>879.000000</td>\n",
       "      <td>1.231200e+07</td>\n",
       "      <td>999.000000</td>\n",
       "      <td>7.000000</td>\n",
       "      <td>11.000000</td>\n",
       "      <td>999.000000</td>\n",
       "    </tr>\n",
       "  </tbody>\n",
       "</table>\n",
       "</div>"
      ],
      "text/plain": [
       "          Unnamed: 0          year           pct       ser_num      datestop  \\\n",
       "count   11825.000000  11825.000000  11825.000000  11825.000000  1.182500e+04   \n",
       "mean   295983.814799   2009.508499     68.625624   5697.994334  6.364221e+06   \n",
       "std    170820.705702      0.499949     33.037826   5152.486022  3.429091e+06   \n",
       "min        52.000000   2009.000000      1.000000      1.000000  1.012009e+06   \n",
       "25%    147515.000000   2009.000000     42.000000   2002.000000  3.232009e+06   \n",
       "50%    296652.000000   2010.000000     73.000000   4366.000000  6.162010e+06   \n",
       "75%    443097.000000   2010.000000    102.000000   7840.000000  9.232009e+06   \n",
       "max    601281.000000   2010.000000    123.000000  31694.000000  1.231201e+07   \n",
       "\n",
       "           timestop        perobs       perstop  compyear  comppct  \\\n",
       "count  11825.000000  11825.000000  11825.000000   11825.0  11825.0   \n",
       "mean    1413.725497      2.654391      5.649556       0.0      0.0   \n",
       "std      744.726359      9.759031      9.758535       0.0      0.0   \n",
       "min        0.000000      0.000000      1.000000       0.0      0.0   \n",
       "25%     1000.000000      1.000000      3.000000       0.0      0.0   \n",
       "50%     1605.000000      1.000000      5.000000       0.0      0.0   \n",
       "75%     2035.000000      3.000000      5.000000       0.0      0.0   \n",
       "max     2830.000000    926.000000    857.000000       0.0      0.0   \n",
       "\n",
       "             repcmd        revcmd           dob           age       ht_feet  \\\n",
       "count  11825.000000  11825.000000  1.182500e+04  11825.000000  11825.000000   \n",
       "mean     243.354926    238.986385  7.316195e+06     28.968541      5.183340   \n",
       "std      297.788599    299.394740  3.729206e+06     29.205278      0.398801   \n",
       "min        1.000000      1.000000  1.011900e+06      1.000000      3.000000   \n",
       "25%       70.000000     66.000000  4.121982e+06     19.000000      5.000000   \n",
       "50%      105.000000    103.000000  7.261982e+06     25.000000      5.000000   \n",
       "75%      177.000000    176.000000  1.105199e+07     34.000000      5.000000   \n",
       "max      879.000000    879.000000  1.231200e+07    999.000000      7.000000   \n",
       "\n",
       "            ht_inch        weight  \n",
       "count  11825.000000  11825.000000  \n",
       "mean       6.408034    170.093615  \n",
       "std        3.405503     37.195884  \n",
       "min        0.000000      1.000000  \n",
       "25%        4.000000    150.000000  \n",
       "50%        7.000000    170.000000  \n",
       "75%        9.000000    180.000000  \n",
       "max       11.000000    999.000000  "
      ]
     },
     "execution_count": 649,
     "metadata": {},
     "output_type": "execute_result"
    }
   ],
   "source": [
    "df_consolidado.describe()"
   ]
  },
  {
   "cell_type": "code",
   "execution_count": 650,
   "metadata": {},
   "outputs": [
    {
     "data": {
      "text/plain": [
       "Unnamed: 0    0\n",
       "year          0\n",
       "pct           0\n",
       "ser_num       0\n",
       "datestop      0\n",
       "             ..\n",
       "xcoord        0\n",
       "ycoord        0\n",
       "dettypcm      0\n",
       "linecm        0\n",
       "detailcm      0\n",
       "Length: 112, dtype: int64"
      ]
     },
     "execution_count": 650,
     "metadata": {},
     "output_type": "execute_result"
    }
   ],
   "source": [
    "# casos perdidos\n",
    "df_consolidado.isnull().sum()"
   ]
  },
  {
   "attachments": {},
   "cell_type": "markdown",
   "metadata": {},
   "source": [
    "3.- Preprocesamiento de datos "
   ]
  },
  {
   "cell_type": "code",
   "execution_count": 651,
   "metadata": {},
   "outputs": [
    {
     "data": {
      "text/plain": [
       "['recstat',\n",
       " 'inout',\n",
       " 'trhsloc',\n",
       " 'typeofid',\n",
       " 'explnstp',\n",
       " 'othpers',\n",
       " 'arstmade',\n",
       " 'sumissue',\n",
       " 'offunif',\n",
       " 'officrid',\n",
       " 'frisked',\n",
       " 'searched',\n",
       " 'contrabn',\n",
       " 'pistol',\n",
       " 'riflshot',\n",
       " 'asltweap',\n",
       " 'knifcuti',\n",
       " 'othrweap',\n",
       " 'pf_hands',\n",
       " 'pf_wall',\n",
       " 'pf_grnd',\n",
       " 'pf_drwep',\n",
       " 'pf_ptwep',\n",
       " 'pf_baton',\n",
       " 'pf_hcuff',\n",
       " 'pf_pepsp',\n",
       " 'pf_other',\n",
       " 'radio',\n",
       " 'ac_rept',\n",
       " 'ac_inves',\n",
       " 'rf_vcrim',\n",
       " 'rf_othsw',\n",
       " 'ac_proxm',\n",
       " 'rf_attir',\n",
       " 'cs_objcs',\n",
       " 'cs_descr',\n",
       " 'cs_casng',\n",
       " 'cs_lkout',\n",
       " 'rf_vcact',\n",
       " 'cs_cloth',\n",
       " 'cs_drgtr',\n",
       " 'ac_evasv',\n",
       " 'ac_assoc',\n",
       " 'cs_furtv',\n",
       " 'rf_rfcmp',\n",
       " 'ac_cgdir',\n",
       " 'rf_verbl',\n",
       " 'cs_vcrim',\n",
       " 'cs_bulge',\n",
       " 'cs_other',\n",
       " 'ac_incid',\n",
       " 'ac_time',\n",
       " 'rf_knowl',\n",
       " 'ac_stsnd',\n",
       " 'ac_other',\n",
       " 'sb_hdobj',\n",
       " 'sb_outln',\n",
       " 'sb_admis',\n",
       " 'sb_other',\n",
       " 'rf_furt',\n",
       " 'rf_bulg',\n",
       " 'offverb',\n",
       " 'offshld',\n",
       " 'sex',\n",
       " 'race',\n",
       " 'haircolr',\n",
       " 'eyecolor',\n",
       " 'build',\n",
       " 'addrtyp',\n",
       " 'city',\n",
       " 'sector',\n",
       " 'beat',\n",
       " 'dettypcm',\n",
       " 'linecm']"
      ]
     },
     "execution_count": 651,
     "metadata": {},
     "output_type": "execute_result"
    }
   ],
   "source": [
    "# Habrá notado que los datos parecen tener ciertas inconsistencias. Siga los \n",
    "# siguientes pasos para limpiar este set:\n",
    "\n",
    "# 3.1 Obtenga una lista con todas las variables categoricas que tengan entre\n",
    "# 2 y 99 categorías (inclusive). (hint: son las variables tipo categoricas\n",
    "\n",
    "# lista con variables categoricas con entre 2 y 99 categorias\n",
    "variables_cat = [ \n",
    "    col for col in df_consolidado.columns  # por cada columna en el dataset\n",
    "    if df_consolidado[col].dtype == 'object' # si el tipo de dato es object\n",
    "    and df_consolidado[col].nunique() >= 2  # y el numero de categorias es mayor o igual a 2\n",
    "    and df_consolidado[col].nunique() <= 99]  # y el numero de categorias es menor o igual a 99\n",
    "variables_cat\n"
   ]
  },
  {
   "cell_type": "code",
   "execution_count": 652,
   "metadata": {},
   "outputs": [
    {
     "name": "stdout",
     "output_type": "stream",
     "text": [
      "N    9246\n",
      "Y    2579\n",
      "Name: offverb, dtype: int64\n",
      "N    8575\n",
      "Y    3250\n",
      "Name: offshld, dtype: int64\n",
      "N    11664\n",
      "Y      161\n",
      "Name: officrid, dtype: int64\n"
     ]
    }
   ],
   "source": [
    "# 3.2 Reemplaze las siguientes clases faltantes:\n",
    "# -Si alguna categoría de las columnas officrid, offshld o offverb es igual a \"\"\n",
    "# cambielo a 'N' y en caso contrario dejelo como 'Y'\n",
    "\n",
    "df_consolidado[\"offverb\"].fillna('N', inplace = True)\n",
    "df_consolidado[\"offverb\"].replace(\" \", 'N', inplace = True)\n",
    "df_consolidado[\"offverb\"].replace(\"V\", 'Y', inplace = True)\n",
    "df_consolidado[\"offshld\"].fillna('N', inplace = True)\n",
    "df_consolidado[\"offshld\"].replace(\" \", 'N', inplace = True)\n",
    "df_consolidado[\"offshld\"].replace(\"S\", 'Y', inplace = True)\n",
    "df_consolidado[\"officrid\"].fillna('N', inplace = True)\n",
    "df_consolidado[\"officrid\"].replace(\" \", 'N', inplace = True)\n",
    "df_consolidado[\"officrid\"].replace(\"I\", 'Y', inplace = True)\n",
    "\n",
    "\n",
    "\n",
    "print(df_consolidado[\"offverb\"].value_counts())\n",
    "print(df_consolidado[\"offshld\"].value_counts())\n",
    "print(df_consolidado[\"officrid\"].value_counts())\n"
   ]
  },
  {
   "cell_type": "code",
   "execution_count": 653,
   "metadata": {},
   "outputs": [
    {
     "name": "stdout",
     "output_type": "stream",
     "text": [
      "B    1175\n",
      "A    1146\n",
      "H    1124\n",
      "E    1116\n",
      "C    1095\n",
      "G    1080\n",
      "F    1021\n",
      "D     914\n",
      "I     872\n",
      "J     684\n",
      "K     397\n",
      "M     342\n",
      "U     293\n",
      "P     228\n",
      "N     148\n",
      "T      79\n",
      "Q      72\n",
      "R      39\n",
      "Name: sector, dtype: int64\n",
      "P    8869\n",
      "H    1859\n",
      "T     892\n",
      "U     205\n",
      "Name: trhsloc, dtype: int64\n",
      "U       7444\n",
      "9        422\n",
      "1        313\n",
      "7        305\n",
      "2        275\n",
      "        ... \n",
      "  62       1\n",
      "30         1\n",
      "32         1\n",
      "  61       1\n",
      "  42       1\n",
      "Name: beat, Length: 64, dtype: int64\n"
     ]
    }
   ],
   "source": [
    "# -Si alguna categoría de las columnas sector, trhsloc o beat es igual a \"\" (o NA, \n",
    "# dependiendo de como haya cargado la base de datos), cambielo a 'U' y en caso \n",
    "# contrario mantenga su valor\n",
    "# Nota, los valores significan {N: No, Y: Yes, U: Unknown}\n",
    "\n",
    "df_consolidado[\"sector\"].fillna('U', inplace = True)\n",
    "df_consolidado[\"sector\"].replace(\" \", 'U', inplace = True)\n",
    "\n",
    "df_consolidado[\"trhsloc\"].fillna('U', inplace = True)\n",
    "df_consolidado[\"trhsloc\"].replace(\" \", 'U', inplace = True)\n",
    "\n",
    "df_consolidado[\"beat\"].fillna('U', inplace = True)\n",
    "df_consolidado[\"beat\"].replace(\" \", 'U', inplace = True)\n",
    "\n",
    "print(df_consolidado[\"sector\"].value_counts())\n",
    "print(df_consolidado[\"trhsloc\"].value_counts())\n",
    "print(df_consolidado[\"beat\"].value_counts())\n",
    "\n",
    "\n"
   ]
  },
  {
   "cell_type": "code",
   "execution_count": 654,
   "metadata": {},
   "outputs": [
    {
     "data": {
      "text/plain": [
       "(11825, 113)"
      ]
     },
     "execution_count": 654,
     "metadata": {},
     "output_type": "execute_result"
    }
   ],
   "source": [
    "# 3.3 Transforme las columnas ht_feet junto con ht_inch en una única \n",
    "# columna (de la forma \"ht_feet.ht_inch\") llamado 'meters' (hint: transforme \n",
    "# con el siguiente cálculo: metros = (pies+pulgadas)*0.3048)\n",
    "\n",
    "df_consolidado[\"meters\"] = (df_consolidado[\"ht_feet\"] + df_consolidado[\"ht_inch\"])*0.3048\n",
    "# df_consolidado[\"meters\"].head()\n",
    "df_consolidado.shape\n"
   ]
  },
  {
   "cell_type": "code",
   "execution_count": 655,
   "metadata": {},
   "outputs": [
    {
     "data": {
      "text/plain": [
       "Index(['Unnamed: 0', 'year', 'pct', 'ser_num', 'datestop', 'timestop',\n",
       "       'recstat', 'inout', 'trhsloc', 'perobs',\n",
       "       ...\n",
       "       'addrpct', 'sector', 'beat', 'post', 'xcoord', 'ycoord', 'dettypcm',\n",
       "       'linecm', 'detailcm', 'meters'],\n",
       "      dtype='object', length=113)"
      ]
     },
     "execution_count": 655,
     "metadata": {},
     "output_type": "execute_result"
    }
   ],
   "source": [
    "df_consolidado.columns"
   ]
  },
  {
   "cell_type": "code",
   "execution_count": 656,
   "metadata": {},
   "outputs": [
    {
     "name": "stdout",
     "output_type": "stream",
     "text": [
      "0     4\n",
      "1    10\n",
      "2    10\n",
      "3    12\n",
      "4    12\n",
      "Name: month, dtype: int64\n",
      "0    2009\n",
      "1    2009\n",
      "2    2009\n",
      "3    2009\n",
      "4    2009\n",
      "Name: year, dtype: int64\n"
     ]
    }
   ],
   "source": [
    "# 3.4 Note que la fecha viene en un formato MMDDAAAA en la columna \n",
    "# datestop. Genere 2 nuevas columnas llamadas month y year que solo \n",
    "# tenga el mes y el año respectivamente\n",
    "\n",
    "# Convertir la columna 'datestop' a tipo datetime\n",
    "df_consolidado  ['datestop'] = pd.to_datetime(df_consolidado['datestop'], format='%m%d%Y')\n",
    "\n",
    "# Obtener el mes y el año en columnas separadas\n",
    "df_consolidado['month'] = df_consolidado['datestop'].dt.month\n",
    "df_consolidado['year'] = df_consolidado['datestop'].dt.year\n",
    "\n",
    "# Imprimir columna 'month' y 'year'\n",
    "print(df_consolidado['month'].head(5))\n",
    "print(df_consolidado['year'].head(5))\n",
    "\n"
   ]
  },
  {
   "cell_type": "code",
   "execution_count": 657,
   "metadata": {},
   "outputs": [
    {
     "data": {
      "text/plain": [
       "(11825, 78)"
      ]
     },
     "execution_count": 657,
     "metadata": {},
     "output_type": "execute_result"
    }
   ],
   "source": [
    "# 3.5 Filtre su DataFrame y solo deje las columnas seleccionadas en el punto \n",
    "# 3.1, el mes, el año, los metros y la edad. Luego solo deje los registros cuyas \n",
    "# edades esten entre 18 y 100 años, ambos inclusive.\n",
    "\n",
    "# Seleccionar columnas\n",
    "df_consolidado = df_consolidado[variables_cat + ['month', 'year', 'meters', 'age']]\n",
    "df_consolidado.shape"
   ]
  },
  {
   "cell_type": "code",
   "execution_count": 658,
   "metadata": {},
   "outputs": [
    {
     "data": {
      "text/plain": [
       "(10078, 78)"
      ]
     },
     "execution_count": 658,
     "metadata": {},
     "output_type": "execute_result"
    }
   ],
   "source": [
    "# Filtrar edades entre 18 y 100 años\n",
    "df_consolidado = df_consolidado[(df_consolidado['age'] >= 18) & (df_consolidado['age'] <= 100)]\n",
    "df_consolidado.shape"
   ]
  },
  {
   "attachments": {},
   "cell_type": "markdown",
   "metadata": {},
   "source": [
    "4.- Análisis exploratorio"
   ]
  },
  {
   "cell_type": "code",
   "execution_count": 659,
   "metadata": {},
   "outputs": [
    {
     "data": {
      "text/plain": [
       "<Axes: >"
      ]
     },
     "execution_count": 659,
     "metadata": {},
     "output_type": "execute_result"
    },
    {
     "data": {
      "image/png": "[encoded data removed]",
      "text/plain": [
       "<Figure size 640x480 with 1 Axes>"
      ]
     },
     "metadata": {},
     "output_type": "display_data"
    }
   ],
   "source": [
    "#  4.1 Estudie la variable respuesta por si sola (arstmade), puede ayudarse de un gráfico. Comente\n",
    "\n",
    "# Gráfico de barras de la variable 'arstmade'\n",
    "df_consolidado['arstmade'].value_counts().plot(kind='bar')\n",
    "\n",
    "# Comentarios: La mayoría de los casos no terminan en arresto"
   ]
  },
  {
   "cell_type": "code",
   "execution_count": 660,
   "metadata": {},
   "outputs": [
    {
     "data": {
      "text/html": [
       "<div>\n",
       "<style scoped>\n",
       "    .dataframe tbody tr th:only-of-type {\n",
       "        vertical-align: middle;\n",
       "    }\n",
       "\n",
       "    .dataframe tbody tr th {\n",
       "        vertical-align: top;\n",
       "    }\n",
       "\n",
       "    .dataframe thead th {\n",
       "        text-align: right;\n",
       "    }\n",
       "</style>\n",
       "<table border=\"1\" class=\"dataframe\">\n",
       "  <thead>\n",
       "    <tr style=\"text-align: right;\">\n",
       "      <th>race</th>\n",
       "      <th>A</th>\n",
       "      <th>B</th>\n",
       "      <th>I</th>\n",
       "      <th>P</th>\n",
       "      <th>Q</th>\n",
       "      <th>U</th>\n",
       "      <th>W</th>\n",
       "      <th>Z</th>\n",
       "    </tr>\n",
       "    <tr>\n",
       "      <th>arstmade</th>\n",
       "      <th></th>\n",
       "      <th></th>\n",
       "      <th></th>\n",
       "      <th></th>\n",
       "      <th></th>\n",
       "      <th></th>\n",
       "      <th></th>\n",
       "      <th></th>\n",
       "    </tr>\n",
       "  </thead>\n",
       "  <tbody>\n",
       "    <tr>\n",
       "      <th>N</th>\n",
       "      <td>279</td>\n",
       "      <td>5006</td>\n",
       "      <td>37</td>\n",
       "      <td>540</td>\n",
       "      <td>2368</td>\n",
       "      <td>66</td>\n",
       "      <td>902</td>\n",
       "      <td>234</td>\n",
       "    </tr>\n",
       "    <tr>\n",
       "      <th>Y</th>\n",
       "      <td>20</td>\n",
       "      <td>336</td>\n",
       "      <td>0</td>\n",
       "      <td>35</td>\n",
       "      <td>164</td>\n",
       "      <td>3</td>\n",
       "      <td>72</td>\n",
       "      <td>16</td>\n",
       "    </tr>\n",
       "  </tbody>\n",
       "</table>\n",
       "</div>"
      ],
      "text/plain": [
       "race        A     B   I    P     Q   U    W    Z\n",
       "arstmade                                        \n",
       "N         279  5006  37  540  2368  66  902  234\n",
       "Y          20   336   0   35   164   3   72   16"
      ]
     },
     "execution_count": 660,
     "metadata": {},
     "output_type": "execute_result"
    }
   ],
   "source": [
    "#  4.2.- Estudie la relación de la variable respuesta en comportamiento con la raza (race), comente.\n",
    "\n",
    "# tabla de contingencia\n",
    "tabla_contingencia = pd.crosstab(df_consolidado['arstmade'], df_consolidado['race'])\n",
    "tabla_contingencia"
   ]
  },
  {
   "cell_type": "code",
   "execution_count": 661,
   "metadata": {},
   "outputs": [
    {
     "data": {
      "image/png": "[encoded data removed]",
      "text/plain": [
       "<Figure size 640x480 with 1 Axes>"
      ]
     },
     "metadata": {},
     "output_type": "display_data"
    }
   ],
   "source": [
    "# grafico de barras \n",
    "sns.countplot(x='race', hue='arstmade', data=df_consolidado)\n",
    "plt.show()\n",
    "\n",
    "# comentario: la raza que más termina en arresto es la negra, pero \n",
    "# independiente de la raza, la mayoría de los casos no terminan en arresto.\n"
   ]
  },
  {
   "cell_type": "code",
   "execution_count": 662,
   "metadata": {},
   "outputs": [
    {
     "data": {
      "text/html": [
       "<div>\n",
       "<style scoped>\n",
       "    .dataframe tbody tr th:only-of-type {\n",
       "        vertical-align: middle;\n",
       "    }\n",
       "\n",
       "    .dataframe tbody tr th {\n",
       "        vertical-align: top;\n",
       "    }\n",
       "\n",
       "    .dataframe thead th {\n",
       "        text-align: right;\n",
       "    }\n",
       "</style>\n",
       "<table border=\"1\" class=\"dataframe\">\n",
       "  <thead>\n",
       "    <tr style=\"text-align: right;\">\n",
       "      <th>sex</th>\n",
       "      <th>F</th>\n",
       "      <th>M</th>\n",
       "      <th>Z</th>\n",
       "    </tr>\n",
       "    <tr>\n",
       "      <th>arstmade</th>\n",
       "      <th></th>\n",
       "      <th></th>\n",
       "      <th></th>\n",
       "    </tr>\n",
       "  </thead>\n",
       "  <tbody>\n",
       "    <tr>\n",
       "      <th>N</th>\n",
       "      <td>586</td>\n",
       "      <td>8704</td>\n",
       "      <td>142</td>\n",
       "    </tr>\n",
       "    <tr>\n",
       "      <th>Y</th>\n",
       "      <td>64</td>\n",
       "      <td>574</td>\n",
       "      <td>8</td>\n",
       "    </tr>\n",
       "  </tbody>\n",
       "</table>\n",
       "</div>"
      ],
      "text/plain": [
       "sex         F     M    Z\n",
       "arstmade                \n",
       "N         586  8704  142\n",
       "Y          64   574    8"
      ]
     },
     "execution_count": 662,
     "metadata": {},
     "output_type": "execute_result"
    }
   ],
   "source": [
    "# 4.3 Estudie la relación de la variable respuesta en comportamiento con la sexo (sex), comente.\n",
    "\n",
    "# tabla de contingencia\n",
    "tabla_conting_2 = pd.crosstab(df_consolidado['arstmade'], df_consolidado['sex'])\n",
    "tabla_conting_2\n"
   ]
  },
  {
   "cell_type": "code",
   "execution_count": 663,
   "metadata": {},
   "outputs": [
    {
     "data": {
      "text/plain": [
       "M    9278\n",
       "F     650\n",
       "Z     150\n",
       "Name: sex, dtype: int64"
      ]
     },
     "execution_count": 663,
     "metadata": {},
     "output_type": "execute_result"
    }
   ],
   "source": [
    "df_consolidado['sex'].value_counts()"
   ]
  },
  {
   "cell_type": "code",
   "execution_count": 664,
   "metadata": {},
   "outputs": [],
   "source": [
    "# eliminar variable z en columna sex ya que no se sabe que significa\n",
    "df_consolidado = df_consolidado.drop(df_consolidado[df_consolidado['sex'] == 'Z'].index)\n"
   ]
  },
  {
   "cell_type": "code",
   "execution_count": 665,
   "metadata": {},
   "outputs": [
    {
     "data": {
      "image/png": "[encoded data removed]",
      "text/plain": [
       "<Figure size 640x480 with 1 Axes>"
      ]
     },
     "metadata": {},
     "output_type": "display_data"
    }
   ],
   "source": [
    "# grafico de barras\n",
    "sns.countplot(x='sex', hue='arstmade', data=df_consolidado)\n",
    "plt.show()\n",
    "\n",
    "# comentario: la proporción de arrestos es mayor en hombres que en mujeres, \n",
    "# pero siguen siendo bajos los arestos en general."
   ]
  },
  {
   "cell_type": "code",
   "execution_count": 666,
   "metadata": {},
   "outputs": [
    {
     "data": {
      "image/png": "[encoded data removed]",
      "text/plain": [
       "<Figure size 640x480 with 1 Axes>"
      ]
     },
     "metadata": {},
     "output_type": "display_data"
    }
   ],
   "source": [
    "# 4.3 Estudie la relación de la variable respuesta en comportamiento con la \n",
    "# sexo y la edad en su conjunto, comente.\n",
    "\n",
    "# Analizar la relación entre \"arstmade\", \"sex\" y \"age\"\n",
    "sns.boxplot(x='sex', y='age', hue='arstmade', data=df_consolidado)\n",
    "plt.xlabel('Sexo')\n",
    "plt.ylabel('Edad')\n",
    "plt.title('Relación entre arresto, sexo y edad')\n",
    "plt.legend(title='Arresto')\n",
    "plt.show()\n",
    "\n",
    "# comentario: la mayor parte de los arrestos se dan en hombres entre 20 y 40 años, al igual que en mujeres.\n"
   ]
  },
  {
   "cell_type": "code",
   "execution_count": 667,
   "metadata": {},
   "outputs": [
    {
     "name": "stdout",
     "output_type": "stream",
     "text": [
      "0    9187\n",
      "1     629\n",
      "Name: arstmade, dtype: int64\n"
     ]
    }
   ],
   "source": [
    "# 4.4 Recodifique la variable respuesta a 1 y 0. Donde 0 es N y 1 es Y\n",
    "\n",
    "# Recodificar la variable 'arstmade'\n",
    "df_consolidado['arstmade'] = df_consolidado['arstmade'].replace({'N': 0, 'Y': 1})\n",
    "\n",
    "# Imprimir la tabla de frecuencias de la variable 'arstmade'\n",
    "print(df_consolidado['arstmade'].value_counts())\n"
   ]
  },
  {
   "cell_type": "code",
   "execution_count": 668,
   "metadata": {},
   "outputs": [
    {
     "data": {
      "image/png": "[encoded data removed]",
      "text/plain": [
       "<Figure size 640x480 with 2 Axes>"
      ]
     },
     "metadata": {},
     "output_type": "display_data"
    }
   ],
   "source": [
    "# 4.5 Muestre en un gráfico la probabilidad que un individuo sea \n",
    "# arrestado,condicional al género y a la raza. ¿qué implicancias éticas tienen \n",
    "# algunas conclusiones de lo que observa?.\n",
    "\n",
    "# Analizar la probabilidad de arresto condicionada por género y raza\n",
    "prob_arresto = df_consolidado.groupby(['race', 'sex'])['arstmade'].mean().unstack()\n",
    "\n",
    "# Crear un mapa de calor\n",
    "sns.heatmap(prob_arresto, annot=True, cmap='Blues')\n",
    "plt.xlabel('Raza')\n",
    "plt.ylabel('Género')\n",
    "plt.title('Probabilidad de arresto condicionada por género y raza')\n",
    "plt.show()\n",
    "\n",
    "\n",
    "# conclusiones: la implicancia ética es que la probabilidad de arresto es mayor en hombres que en mujeres\n",
    "# y en personas de raza negra que en personas de raza blanca."
   ]
  },
  {
   "attachments": {},
   "cell_type": "markdown",
   "metadata": {},
   "source": [
    "5.- Determinar si el procedimiento policial concluirá en alguna acción violenta"
   ]
  },
  {
   "cell_type": "code",
   "execution_count": 669,
   "metadata": {},
   "outputs": [
    {
     "name": "stdout",
     "output_type": "stream",
     "text": [
      "0    7444\n",
      "1    2372\n",
      "Name: violencia, dtype: int64\n"
     ]
    }
   ],
   "source": [
    "# Los atributos que tienen el prefijo pf (['pf_hands'],['pf_wall'], ['pf_grnd'], \n",
    "# ['pf_drwep'], ['pf_ptwep'],['pf_baton'],['pf_hcuff'], ['pf_pepsp'] y ['pf_other']) indican \n",
    "# si hubo fuerza fisica utilizada por el oficial al momento del procedimiento, con la \n",
    "# marca 'Y'.\n",
    "# Genere una nueva variable llamada 'violencia' la cual sea 1 si en cualquiera de \n",
    "# las 9 variables pf hubo alguna 'Y', y 0 en otro caso. Luego indique el porcentaje \n",
    "# de casos que terminaron con violencia.\n",
    "\n",
    "# Crear la nueva variable 'violencia'\n",
    "df_consolidado['violencia'] = df_consolidado[\n",
    "    ['pf_hands', 'pf_wall', 'pf_grnd', 'pf_drwep', 'pf_ptwep', \n",
    "     'pf_baton', 'pf_hcuff', 'pf_pepsp', 'pf_other']].apply(\n",
    "         lambda row: 1 if 'Y' in row.values else 0, axis=1)\n",
    "\n",
    "# Imprimir la tabla de frecuencias de la variable 'violencia'\n",
    "print(df_consolidado['violencia'].value_counts())\n",
    "\n"
   ]
  },
  {
   "cell_type": "code",
   "execution_count": 670,
   "metadata": {},
   "outputs": [
    {
     "name": "stdout",
     "output_type": "stream",
     "text": [
      "Porcentaje de casos con violencia: 24.16%\n"
     ]
    }
   ],
   "source": [
    "# Calcular el porcentaje de casos con violencia\n",
    "violence_percentage = (df_consolidado['violencia'].sum() / len(df_consolidado)) * 100\n",
    "print(f\"Porcentaje de casos con violencia: {violence_percentage:.2f}%\")\n"
   ]
  },
  {
   "attachments": {},
   "cell_type": "markdown",
   "metadata": {},
   "source": [
    "6.- Modelación"
   ]
  },
  {
   "cell_type": "code",
   "execution_count": 671,
   "metadata": {},
   "outputs": [],
   "source": [
    "# 6.1 Genere las variables dummies correspondientes (Tenga cuidado de no \n",
    "# utilizar variables que expliquen lo mismo, ¡recuerde que acaba de crear \n",
    "# una variable a partir de otras!, además recuerde que creó una variable \n",
    "# numérica que es una categoría :) ). Luego genere los sets de train-test \n",
    "# utilizando el año 2009 para entrenar, y el año 2010 para testear. \n",
    "\n",
    "# get dummies\n",
    "df_consolidado = pd.get_dummies(df_consolidado, drop_first=True)\n",
    "\n",
    "# separar en train y test\n",
    "df_train = df_consolidado[df_consolidado['year'] == 2009]\n",
    "df_test = df_consolidado[df_consolidado['year'] == 2010]\n"
   ]
  },
  {
   "cell_type": "code",
   "execution_count": 672,
   "metadata": {},
   "outputs": [],
   "source": [
    "#  6.2 Entrene 2 modelos de clasificación y reporte el mejor modelo bajo algún criterio.\n",
    "\n",
    "# Separar la matriz de atributos y el vector objetivo\n",
    "X_train = df_train.drop(['arstmade', 'year'], axis=1)\n",
    "y_train = df_train['arstmade']\n",
    "\n",
    "X_test = df_test.drop(['arstmade', 'year'], axis=1)\n",
    "y_test = df_test['arstmade']\n",
    "\n",
    "# escalar los datos\n",
    "scaler = StandardScaler()\n",
    "X_train = scaler.fit_transform(X_train)\n",
    "X_test = scaler.transform(X_test)"
   ]
  },
  {
   "cell_type": "code",
   "execution_count": 673,
   "metadata": {},
   "outputs": [
    {
     "data": {
      "text/html": [
       "<style>#sk-container-id-15 {color: black;background-color: white;}#sk-container-id-15 pre{padding: 0;}#sk-container-id-15 div.sk-toggleable {background-color: white;}#sk-container-id-15 label.sk-toggleable__label {cursor: pointer;display: block;width: 100%;margin-bottom: 0;padding: 0.3em;box-sizing: border-box;text-align: center;}#sk-container-id-15 label.sk-toggleable__label-arrow:before {content: \"▸\";float: left;margin-right: 0.25em;color: #696969;}#sk-container-id-15 label.sk-toggleable__label-arrow:hover:before {color: black;}#sk-container-id-15 div.sk-estimator:hover label.sk-toggleable__label-arrow:before {color: black;}#sk-container-id-15 div.sk-toggleable__content {max-height: 0;max-width: 0;overflow: hidden;text-align: left;background-color: #f0f8ff;}#sk-container-id-15 div.sk-toggleable__content pre {margin: 0.2em;color: black;border-radius: 0.25em;background-color: #f0f8ff;}#sk-container-id-15 input.sk-toggleable__control:checked~div.sk-toggleable__content {max-height: 200px;max-width: 100%;overflow: auto;}#sk-container-id-15 input.sk-toggleable__control:checked~label.sk-toggleable__label-arrow:before {content: \"▾\";}#sk-container-id-15 div.sk-estimator input.sk-toggleable__control:checked~label.sk-toggleable__label {background-color: #d4ebff;}#sk-container-id-15 div.sk-label input.sk-toggleable__control:checked~label.sk-toggleable__label {background-color: #d4ebff;}#sk-container-id-15 input.sk-hidden--visually {border: 0;clip: rect(1px 1px 1px 1px);clip: rect(1px, 1px, 1px, 1px);height: 1px;margin: -1px;overflow: hidden;padding: 0;position: absolute;width: 1px;}#sk-container-id-15 div.sk-estimator {font-family: monospace;background-color: #f0f8ff;border: 1px dotted black;border-radius: 0.25em;box-sizing: border-box;margin-bottom: 0.5em;}#sk-container-id-15 div.sk-estimator:hover {background-color: #d4ebff;}#sk-container-id-15 div.sk-parallel-item::after {content: \"\";width: 100%;border-bottom: 1px solid gray;flex-grow: 1;}#sk-container-id-15 div.sk-label:hover label.sk-toggleable__label {background-color: #d4ebff;}#sk-container-id-15 div.sk-serial::before {content: \"\";position: absolute;border-left: 1px solid gray;box-sizing: border-box;top: 0;bottom: 0;left: 50%;z-index: 0;}#sk-container-id-15 div.sk-serial {display: flex;flex-direction: column;align-items: center;background-color: white;padding-right: 0.2em;padding-left: 0.2em;position: relative;}#sk-container-id-15 div.sk-item {position: relative;z-index: 1;}#sk-container-id-15 div.sk-parallel {display: flex;align-items: stretch;justify-content: center;background-color: white;position: relative;}#sk-container-id-15 div.sk-item::before, #sk-container-id-15 div.sk-parallel-item::before {content: \"\";position: absolute;border-left: 1px solid gray;box-sizing: border-box;top: 0;bottom: 0;left: 50%;z-index: -1;}#sk-container-id-15 div.sk-parallel-item {display: flex;flex-direction: column;z-index: 1;position: relative;background-color: white;}#sk-container-id-15 div.sk-parallel-item:first-child::after {align-self: flex-end;width: 50%;}#sk-container-id-15 div.sk-parallel-item:last-child::after {align-self: flex-start;width: 50%;}#sk-container-id-15 div.sk-parallel-item:only-child::after {width: 0;}#sk-container-id-15 div.sk-dashed-wrapped {border: 1px dashed gray;margin: 0 0.4em 0.5em 0.4em;box-sizing: border-box;padding-bottom: 0.4em;background-color: white;}#sk-container-id-15 div.sk-label label {font-family: monospace;font-weight: bold;display: inline-block;line-height: 1.2em;}#sk-container-id-15 div.sk-label-container {text-align: center;}#sk-container-id-15 div.sk-container {/* jupyter's `normalize.less` sets `[hidden] { display: none; }` but bootstrap.min.css set `[hidden] { display: none !important; }` so we also need the `!important` here to be able to override the default hidden behavior on the sphinx rendered scikit-learn.org. See: https://github.com/scikit-learn/scikit-learn/issues/21755 */display: inline-block !important;position: relative;}#sk-container-id-15 div.sk-text-repr-fallback {display: none;}</style><div id=\"sk-container-id-15\" class=\"sk-top-container\"><div class=\"sk-text-repr-fallback\"><pre>LogisticRegression()</pre><b>In a Jupyter environment, please rerun this cell to show the HTML representation or trust the notebook. <br />On GitHub, the HTML representation is unable to render, please try loading this page with nbviewer.org.</b></div><div class=\"sk-container\" hidden><div class=\"sk-item\"><div class=\"sk-estimator sk-toggleable\"><input class=\"sk-toggleable__control sk-hidden--visually\" id=\"sk-estimator-id-15\" type=\"checkbox\" checked><label for=\"sk-estimator-id-15\" class=\"sk-toggleable__label sk-toggleable__label-arrow\">LogisticRegression</label><div class=\"sk-toggleable__content\"><pre>LogisticRegression()</pre></div></div></div></div></div>"
      ],
      "text/plain": [
       "LogisticRegression()"
      ]
     },
     "execution_count": 673,
     "metadata": {},
     "output_type": "execute_result"
    }
   ],
   "source": [
    "# modelo 1: regresión logística\n",
    "\n",
    "# Entrenar un modelo de regresión logística\n",
    "regresion = LogisticRegression()\n",
    "regresion.fit(X_train, y_train)"
   ]
  },
  {
   "cell_type": "code",
   "execution_count": 674,
   "metadata": {},
   "outputs": [
    {
     "name": "stdout",
     "output_type": "stream",
     "text": [
      "Accuracy en el set de entrenamiento: 0.974\n",
      "MSE en el set de entrenamiento: 0.026\n"
     ]
    }
   ],
   "source": [
    "# Predecir en el set de entrenamiento\n",
    "y_train_pred = regresion.predict(X_train)\n",
    "\n",
    "# Predecir en el set de testeo\n",
    "y_test_pred = regresion.predict(X_test)\n",
    "\n",
    "# Calcular la métrica accuracy en el set de entrenamiento\n",
    "print(f\"Accuracy en el set de entrenamiento: {accuracy_score(y_train, y_train_pred):.3f}\")\n",
    "\n",
    "# calcular MSE del modelo de regresión logística\n",
    "print(f\"MSE en el set de entrenamiento: {mean_squared_error(y_train, y_train_pred):.3f}\")\n"
   ]
  },
  {
   "cell_type": "code",
   "execution_count": 689,
   "metadata": {},
   "outputs": [
    {
     "data": {
      "text/html": [
       "<style>#sk-container-id-22 {color: black;background-color: white;}#sk-container-id-22 pre{padding: 0;}#sk-container-id-22 div.sk-toggleable {background-color: white;}#sk-container-id-22 label.sk-toggleable__label {cursor: pointer;display: block;width: 100%;margin-bottom: 0;padding: 0.3em;box-sizing: border-box;text-align: center;}#sk-container-id-22 label.sk-toggleable__label-arrow:before {content: \"▸\";float: left;margin-right: 0.25em;color: #696969;}#sk-container-id-22 label.sk-toggleable__label-arrow:hover:before {color: black;}#sk-container-id-22 div.sk-estimator:hover label.sk-toggleable__label-arrow:before {color: black;}#sk-container-id-22 div.sk-toggleable__content {max-height: 0;max-width: 0;overflow: hidden;text-align: left;background-color: #f0f8ff;}#sk-container-id-22 div.sk-toggleable__content pre {margin: 0.2em;color: black;border-radius: 0.25em;background-color: #f0f8ff;}#sk-container-id-22 input.sk-toggleable__control:checked~div.sk-toggleable__content {max-height: 200px;max-width: 100%;overflow: auto;}#sk-container-id-22 input.sk-toggleable__control:checked~label.sk-toggleable__label-arrow:before {content: \"▾\";}#sk-container-id-22 div.sk-estimator input.sk-toggleable__control:checked~label.sk-toggleable__label {background-color: #d4ebff;}#sk-container-id-22 div.sk-label input.sk-toggleable__control:checked~label.sk-toggleable__label {background-color: #d4ebff;}#sk-container-id-22 input.sk-hidden--visually {border: 0;clip: rect(1px 1px 1px 1px);clip: rect(1px, 1px, 1px, 1px);height: 1px;margin: -1px;overflow: hidden;padding: 0;position: absolute;width: 1px;}#sk-container-id-22 div.sk-estimator {font-family: monospace;background-color: #f0f8ff;border: 1px dotted black;border-radius: 0.25em;box-sizing: border-box;margin-bottom: 0.5em;}#sk-container-id-22 div.sk-estimator:hover {background-color: #d4ebff;}#sk-container-id-22 div.sk-parallel-item::after {content: \"\";width: 100%;border-bottom: 1px solid gray;flex-grow: 1;}#sk-container-id-22 div.sk-label:hover label.sk-toggleable__label {background-color: #d4ebff;}#sk-container-id-22 div.sk-serial::before {content: \"\";position: absolute;border-left: 1px solid gray;box-sizing: border-box;top: 0;bottom: 0;left: 50%;z-index: 0;}#sk-container-id-22 div.sk-serial {display: flex;flex-direction: column;align-items: center;background-color: white;padding-right: 0.2em;padding-left: 0.2em;position: relative;}#sk-container-id-22 div.sk-item {position: relative;z-index: 1;}#sk-container-id-22 div.sk-parallel {display: flex;align-items: stretch;justify-content: center;background-color: white;position: relative;}#sk-container-id-22 div.sk-item::before, #sk-container-id-22 div.sk-parallel-item::before {content: \"\";position: absolute;border-left: 1px solid gray;box-sizing: border-box;top: 0;bottom: 0;left: 50%;z-index: -1;}#sk-container-id-22 div.sk-parallel-item {display: flex;flex-direction: column;z-index: 1;position: relative;background-color: white;}#sk-container-id-22 div.sk-parallel-item:first-child::after {align-self: flex-end;width: 50%;}#sk-container-id-22 div.sk-parallel-item:last-child::after {align-self: flex-start;width: 50%;}#sk-container-id-22 div.sk-parallel-item:only-child::after {width: 0;}#sk-container-id-22 div.sk-dashed-wrapped {border: 1px dashed gray;margin: 0 0.4em 0.5em 0.4em;box-sizing: border-box;padding-bottom: 0.4em;background-color: white;}#sk-container-id-22 div.sk-label label {font-family: monospace;font-weight: bold;display: inline-block;line-height: 1.2em;}#sk-container-id-22 div.sk-label-container {text-align: center;}#sk-container-id-22 div.sk-container {/* jupyter's `normalize.less` sets `[hidden] { display: none; }` but bootstrap.min.css set `[hidden] { display: none !important; }` so we also need the `!important` here to be able to override the default hidden behavior on the sphinx rendered scikit-learn.org. See: https://github.com/scikit-learn/scikit-learn/issues/21755 */display: inline-block !important;position: relative;}#sk-container-id-22 div.sk-text-repr-fallback {display: none;}</style><div id=\"sk-container-id-22\" class=\"sk-top-container\"><div class=\"sk-text-repr-fallback\"><pre>RandomForestClassifier(max_depth=5, random_state=42)</pre><b>In a Jupyter environment, please rerun this cell to show the HTML representation or trust the notebook. <br />On GitHub, the HTML representation is unable to render, please try loading this page with nbviewer.org.</b></div><div class=\"sk-container\" hidden><div class=\"sk-item\"><div class=\"sk-estimator sk-toggleable\"><input class=\"sk-toggleable__control sk-hidden--visually\" id=\"sk-estimator-id-22\" type=\"checkbox\" checked><label for=\"sk-estimator-id-22\" class=\"sk-toggleable__label sk-toggleable__label-arrow\">RandomForestClassifier</label><div class=\"sk-toggleable__content\"><pre>RandomForestClassifier(max_depth=5, random_state=42)</pre></div></div></div></div></div>"
      ],
      "text/plain": [
       "RandomForestClassifier(max_depth=5, random_state=42)"
      ]
     },
     "execution_count": 689,
     "metadata": {},
     "output_type": "execute_result"
    }
   ],
   "source": [
    "# modelo 2: random forest\n",
    "\n",
    "# Entrenar un modelo de random forest\n",
    "forest = RandomForestClassifier(max_depth=5, random_state=42)\n",
    "forest.fit(X_train, y_train)\n"
   ]
  },
  {
   "cell_type": "code",
   "execution_count": 690,
   "metadata": {},
   "outputs": [
    {
     "name": "stdout",
     "output_type": "stream",
     "text": [
      "Accuracy en el set de entrenamiento: 0.958\n",
      "MSE en el set de entrenamiento: 0.042\n"
     ]
    }
   ],
   "source": [
    "# Predecir en el set de entrenamiento\n",
    "y_train_pred = forest.predict(X_train)\n",
    "\n",
    "# Predecir en el set de testeo\n",
    "y_test_pred = forest.predict(X_test)\n",
    "\n",
    "# Calcular la métrica accuracy en el set de entrenamiento\n",
    "print(f\"Accuracy en el set de entrenamiento: {accuracy_score(y_train, y_train_pred):.3f}\")\n",
    "\n",
    "# calcular MSE del modelo de random forest\n",
    "print(f\"MSE en el set de entrenamiento: {mean_squared_error(y_train, y_train_pred):.3f}\")"
   ]
  },
  {
   "cell_type": "code",
   "execution_count": 677,
   "metadata": {},
   "outputs": [],
   "source": [
    "# Conclusiones: el modelo de regresión logística tiene un accuracy mayor que el modelo de random forest\n",
    "# y un MSE menor, por lo que es el mejor modelo."
   ]
  },
  {
   "cell_type": "code",
   "execution_count": 678,
   "metadata": {},
   "outputs": [],
   "source": [
    "# ¿Que puede hacer para mejorar la predicción de los modelos?\n",
    "\n",
    "# Para mejorar la predicción de los modelos se puede realizar una búsqueda de hiperparámetros\n",
    "# para encontrar los mejores parámetros para el modelo. \n",
    "\n",
    "# También se puede realizar una selección de atributos para quedarse con los atributos más importantes \n",
    "# y eliminar los que no aportan información.\n",
    "\n"
   ]
  }
 ],
 "metadata": {
  "kernelspec": {
   "display_name": "base",
   "language": "python",
   "name": "python3"
  },
  "language_info": {
   "codemirror_mode": {
    "name": "ipython",
    "version": 3
   },
   "file_extension": ".py",
   "mimetype": "text/x-python",
   "name": "python",
   "nbconvert_exporter": "python",
   "pygments_lexer": "ipython3",
   "version": "3.10.9"
  },
  "orig_nbformat": 4
 },
 "nbformat": 4,
 "nbformat_minor": 2
}
